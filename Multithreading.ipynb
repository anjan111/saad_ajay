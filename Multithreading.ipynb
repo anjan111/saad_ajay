{
 "cells": [
  {
   "cell_type": "code",
   "execution_count": 3,
   "metadata": {},
   "outputs": [
    {
     "name": "stdout",
     "output_type": "stream",
     "text": [
      "start time :  1571445125.4\n",
      "name :  anjan\n",
      "name :  anjan\n",
      "name :  anjan\n",
      "name :  anjan\n",
      "name :  anjan\n",
      "name :  anjan\n",
      "name :  anjan\n",
      "name :  anjan\n",
      "name :  anjan\n",
      "name :  anjan\n",
      "*****\n",
      "name :  sad\n",
      "name :  sad\n",
      "name :  sad\n",
      "name :  sad\n",
      "name :  sad\n",
      "name :  sad\n",
      "name :  sad\n",
      "name :  sad\n",
      "name :  sad\n",
      "name :  sad\n",
      "stop :  1571445145.42\n"
     ]
    }
   ],
   "source": [
    "# process\n",
    "#-----------\n",
    "'''\n",
    "===>> the program which is an execution \n",
    "'''\n",
    "#mulitprocess\n",
    "'''\n",
    "===>> At a time multiple progrmas which are executed\n",
    "===> A single cpu can process single program\n",
    "===> count of cpu has to be increase ===>>> the cost of computers\n",
    "===> Using scheduling algorithm we can achieve the multiplrocess\n",
    "===>\n",
    "\n",
    "'''\n",
    "#thread\n",
    "'''\n",
    "===> Thread is a part of the process\n",
    "===> Thread is lightwheight process\n",
    "===> process and thread both are executed paralledlly and indepeended \n",
    "===> process execution is done even thread is execution\n",
    "'''\n",
    "# multithreading\n",
    "'''\n",
    "====>> we have the multiple threads with in the same program\n",
    "'''\n",
    "import time as t\n",
    "print \"start time : \",t.time()\n",
    "def fun(name = None):\n",
    "    for i in range(10):\n",
    "        print \"name : \",name\n",
    "        t.sleep(1)\n",
    "def main():\n",
    "    fun(\"anjan\")\n",
    "    print\"*****\"\n",
    "    fun(\"sad\")\n",
    "if __name__ == \"__main__\":\n",
    "    main()\n",
    "    print \"stop : \",t.time()"
   ]
  },
  {
   "cell_type": "code",
   "execution_count": 5,
   "metadata": {},
   "outputs": [
    {
     "name": "stdout",
     "output_type": "stream",
     "text": [
      "start time :  1571445261.91\n",
      "*****name : \n",
      "stop :  1571445261.92name :  \n",
      " anjansad\n",
      "\n",
      "name : name :   anjan\n",
      "sad\n",
      "name : name :   sad\n",
      "anjan\n",
      "name : name :  anjan sad\n",
      "\n",
      "name : name :   anjan\n",
      "sad\n",
      "name :  name : anjan \n",
      "sad\n",
      "name :  anjan\n",
      " name :  sad\n",
      "name :  name : anjan \n",
      "sad\n",
      "name : name :   sadanjan\n",
      "\n",
      "name :  sad\n",
      "name :  anjan\n"
     ]
    }
   ],
   "source": [
    "import time as t\n",
    "import thread\n",
    "print \"start time : \",t.time()\n",
    "def fun(name = None):\n",
    "    for i in range(10):\n",
    "        print \"name : \",name\n",
    "        t.sleep(1)\n",
    "def main():\n",
    "    thread.start_new_thread(fun ,(\"anjan\",))\n",
    "    print\"*****\"\n",
    "    thread.start_new_thread(fun,(\"sad\",))\n",
    "if __name__ == \"__main__\":\n",
    "    main()\n",
    "    print \"stop : \",t.time()"
   ]
  }
 ],
 "metadata": {
  "kernelspec": {
   "display_name": "Python 2",
   "language": "python",
   "name": "python2"
  },
  "language_info": {
   "codemirror_mode": {
    "name": "ipython",
    "version": 2
   },
   "file_extension": ".py",
   "mimetype": "text/x-python",
   "name": "python",
   "nbconvert_exporter": "python",
   "pygments_lexer": "ipython2",
   "version": "2.7.16"
  }
 },
 "nbformat": 4,
 "nbformat_minor": 2
}
