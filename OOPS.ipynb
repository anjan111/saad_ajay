{
 "cells": [
  {
   "cell_type": "code",
   "execution_count": 2,
   "metadata": {},
   "outputs": [
    {
     "name": "stdout",
     "output_type": "stream",
     "text": [
      "123\n",
      "123\n",
      "34\n",
      "45\n"
     ]
    }
   ],
   "source": [
    "# class\n",
    "class  Class_name():\n",
    "    var = 123\n",
    "    def methode():\n",
    "        print var\n",
    "# obj1 \n",
    "obj1 = Class_name()\n",
    "# obj2\n",
    "obj2 = Class_name()\n",
    "print obj1.var\n",
    "print obj2.var\n",
    "obj1.var = 34\n",
    "obj2.var = 45\n",
    "print obj1.var\n",
    "print obj2.var"
   ]
  },
  {
   "cell_type": "code",
   "execution_count": 7,
   "metadata": {},
   "outputs": [
    {
     "name": "stdout",
     "output_type": "stream",
     "text": [
      "123\n",
      "123\n",
      "enter var :45\n",
      "enter var :45\n",
      "45\n",
      "45\n"
     ]
    }
   ],
   "source": [
    "# class\n",
    "class  Class_name():\n",
    "    var = 123\n",
    "    def methode(self):\n",
    "        print self.var\n",
    "    def modify(self):\n",
    "        self.var = input(\"enter var :\")\n",
    "# obj1 \n",
    "obj1 = Class_name()\n",
    "# obj2\n",
    "obj2 = Class_name()\n",
    "obj1.methode()\n",
    "obj2.methode()\n",
    "obj1.modify()\n",
    "obj2.modify()\n",
    "obj1.methode()\n",
    "obj2.methode()\n"
   ]
  },
  {
   "cell_type": "code",
   "execution_count": 9,
   "metadata": {},
   "outputs": [
    {
     "name": "stdout",
     "output_type": "stream",
     "text": [
      "I am constructor\n",
      "I am constructor\n",
      " iam distructo\n",
      " iam distructo\n"
     ]
    }
   ],
   "source": [
    "# constructor\n",
    "'''\n",
    "====>>> we can do a task while creation an object\n",
    "\n",
    "__init__()\n",
    "\n",
    "'''\n",
    "# distructor\n",
    "'''\n",
    "===>> while object dletation it can do a task\n",
    "\n",
    "__del__\n",
    "\n",
    "'''\n",
    "class New_class():\n",
    "    def __init__(self):\n",
    "        print \"I am constructor\"\n",
    "    def printing(self):\n",
    "        print \"i am printing method\"\n",
    "    def __del__(self):\n",
    "        print \" iam distructo\"\n",
    "obj1 = New_class()\n",
    "obj2 = New_class()\n",
    "del obj1\n",
    "del obj2"
   ]
  },
  {
   "cell_type": "code",
   "execution_count": 1,
   "metadata": {},
   "outputs": [
    {
     "name": "stdout",
     "output_type": "stream",
     "text": [
      "hello i am 2nd new method\n",
      "hello i am 2nd new method\n"
     ]
    }
   ],
   "source": [
    "#methode overriding\n",
    "class Class_name():\n",
    "    def new_met(self):\n",
    "        print \"hello i am 1st new method\"\n",
    "    def new_met(self):\n",
    "        print \"hello i am 2nd new method\"\n",
    "obj = Class_name()\n",
    "obj.new_met()\n",
    "obj.new_met()"
   ]
  },
  {
   "cell_type": "code",
   "execution_count": 2,
   "metadata": {},
   "outputs": [
    {
     "name": "stdout",
     "output_type": "stream",
     "text": [
      "hello i am 2nd new method\n"
     ]
    },
    {
     "ename": "TypeError",
     "evalue": "new_met() takes exactly 3 arguments (2 given)",
     "output_type": "error",
     "traceback": [
      "\u001b[1;31m---------------------------------------------------------------------------\u001b[0m",
      "\u001b[1;31mTypeError\u001b[0m                                 Traceback (most recent call last)",
      "\u001b[1;32m<ipython-input-2-7f4f26344406>\u001b[0m in \u001b[0;36m<module>\u001b[1;34m()\u001b[0m\n\u001b[0;32m      7\u001b[0m \u001b[0mobj\u001b[0m \u001b[1;33m=\u001b[0m \u001b[0mClass_name\u001b[0m\u001b[1;33m(\u001b[0m\u001b[1;33m)\u001b[0m\u001b[1;33m\u001b[0m\u001b[0m\n\u001b[0;32m      8\u001b[0m \u001b[0mobj\u001b[0m\u001b[1;33m.\u001b[0m\u001b[0mnew_met\u001b[0m\u001b[1;33m(\u001b[0m\u001b[1;36m10\u001b[0m\u001b[1;33m,\u001b[0m\u001b[1;36m20\u001b[0m\u001b[1;33m)\u001b[0m\u001b[1;33m\u001b[0m\u001b[0m\n\u001b[1;32m----> 9\u001b[1;33m \u001b[0mobj\u001b[0m\u001b[1;33m.\u001b[0m\u001b[0mnew_met\u001b[0m\u001b[1;33m(\u001b[0m\u001b[1;36m30\u001b[0m\u001b[1;33m)\u001b[0m\u001b[1;33m\u001b[0m\u001b[0m\n\u001b[0m",
      "\u001b[1;31mTypeError\u001b[0m: new_met() takes exactly 3 arguments (2 given)"
     ]
    }
   ],
   "source": [
    "#methode overloading--->not supported\n",
    "class Class_name():\n",
    "    def new_met(self,a):\n",
    "        print \"hello i am 1st new method\"\n",
    "    def new_met(self,a,b):\n",
    "        print \"hello i am 2nd new method\"\n",
    "obj = Class_name()\n",
    "obj.new_met(10,20)\n",
    "obj.new_met(30)"
   ]
  },
  {
   "cell_type": "code",
   "execution_count": 3,
   "metadata": {},
   "outputs": [
    {
     "name": "stdout",
     "output_type": "stream",
     "text": [
      "hello i am 1st new method\n",
      "hello i am 2nd new method\n"
     ]
    }
   ],
   "source": [
    "# polymorpshism\n",
    "'''\n",
    "===>>> A same function can do multiple tasks\n",
    "'''\n",
    "class Class1():\n",
    "    def new_met(self):\n",
    "        print \"hello i am 1st new method\"\n",
    "class Class2():\n",
    "    def new_met(self):\n",
    "        print \"hello i am 2nd new method\"\n",
    "obj1 = Class1()\n",
    "obj2 =Class2()\n",
    "obj1.new_met()\n",
    "obj2.new_met()"
   ]
  },
  {
   "cell_type": "code",
   "execution_count": 5,
   "metadata": {},
   "outputs": [
    {
     "name": "stdout",
     "output_type": "stream",
     "text": [
      "i am derived class\n",
      "i am from base\n"
     ]
    }
   ],
   "source": [
    "# inheritance \n",
    "'''\n",
    "\n",
    "===>>> one class properties will access by another class\n",
    "'''\n",
    "class Base(): # parent class\n",
    "    def fun1(self):\n",
    "        print\"i am from base\"\n",
    "class Derived(Base): # child class\n",
    "    def fun2(self):\n",
    "        print \"i am derived class\"\n",
    "        \n",
    "obj = Derived()\n",
    "obj.fun2()\n",
    "obj.fun1()"
   ]
  },
  {
   "cell_type": "code",
   "execution_count": 10,
   "metadata": {},
   "outputs": [
    {
     "name": "stdout",
     "output_type": "stream",
     "text": [
      "123\n",
      "13\n",
      "123\n",
      "12\n"
     ]
    },
    {
     "ename": "AttributeError",
     "evalue": "Class_name instance has no attribute '__a'",
     "output_type": "error",
     "traceback": [
      "\u001b[1;31m---------------------------------------------------------------------------\u001b[0m",
      "\u001b[1;31mAttributeError\u001b[0m                            Traceback (most recent call last)",
      "\u001b[1;32m<ipython-input-10-256a87903114>\u001b[0m in \u001b[0;36m<module>\u001b[1;34m()\u001b[0m\n\u001b[0;32m     13\u001b[0m \u001b[1;32mprint\u001b[0m \u001b[0mobj\u001b[0m\u001b[1;33m.\u001b[0m\u001b[0mvar\u001b[0m\u001b[1;33m\u001b[0m\u001b[0m\n\u001b[0;32m     14\u001b[0m \u001b[0mobj\u001b[0m\u001b[1;33m.\u001b[0m\u001b[0mmet\u001b[0m\u001b[1;33m(\u001b[0m\u001b[1;33m)\u001b[0m\u001b[1;33m\u001b[0m\u001b[0m\n\u001b[1;32m---> 15\u001b[1;33m \u001b[1;32mprint\u001b[0m \u001b[0mobj\u001b[0m\u001b[1;33m.\u001b[0m\u001b[0m__a\u001b[0m\u001b[1;33m\u001b[0m\u001b[0m\n\u001b[0m\u001b[0;32m     16\u001b[0m \u001b[0mobj\u001b[0m\u001b[1;33m.\u001b[0m\u001b[0m__a\u001b[0m  \u001b[1;33m=\u001b[0m\u001b[1;36m12\u001b[0m\u001b[1;33m\u001b[0m\u001b[0m\n\u001b[0;32m     17\u001b[0m \u001b[1;32mprint\u001b[0m \u001b[0mobj\u001b[0m\u001b[1;33m.\u001b[0m\u001b[0m__a\u001b[0m\u001b[1;33m\u001b[0m\u001b[0m\n",
      "\u001b[1;31mAttributeError\u001b[0m: Class_name instance has no attribute '__a'"
     ]
    }
   ],
   "source": [
    "# data hiding\n",
    "##with in the class everything is public-->> private\n",
    "class Class_name():\n",
    "    var = 123 # public data\n",
    "    __a = 123 # private data\n",
    "    def met(self):\n",
    "        print self.__a\n",
    "        self.__a  =12\n",
    "        print self.__a\n",
    "obj = Class_name()\n",
    "print obj.var\n",
    "obj.var = 13\n",
    "print obj.var\n",
    "obj.met()\n",
    "print obj.__a\n",
    "obj.__a  =12\n",
    "print obj.__a"
   ]
  },
  {
   "cell_type": "code",
   "execution_count": 14,
   "metadata": {},
   "outputs": [
    {
     "name": "stdout",
     "output_type": "stream",
     "text": [
      "123\n",
      "12\n"
     ]
    }
   ],
   "source": [
    "# data encaplusation\n",
    "class Class_name():\n",
    "    __var = 123\n",
    "obj = Class_name()\n",
    "print obj._Class_name__var\n",
    "obj._Class_name__var =12\n",
    "print obj._Class_name__var"
   ]
  },
  {
   "cell_type": "code",
   "execution_count": null,
   "metadata": {},
   "outputs": [],
   "source": []
  },
  {
   "cell_type": "code",
   "execution_count": null,
   "metadata": {},
   "outputs": [],
   "source": []
  },
  {
   "cell_type": "code",
   "execution_count": null,
   "metadata": {},
   "outputs": [],
   "source": []
  }
 ],
 "metadata": {
  "kernelspec": {
   "display_name": "Python 2",
   "language": "python",
   "name": "python2"
  },
  "language_info": {
   "codemirror_mode": {
    "name": "ipython",
    "version": 2
   },
   "file_extension": ".py",
   "mimetype": "text/x-python",
   "name": "python",
   "nbconvert_exporter": "python",
   "pygments_lexer": "ipython2",
   "version": "2.7.16"
  }
 },
 "nbformat": 4,
 "nbformat_minor": 2
}
