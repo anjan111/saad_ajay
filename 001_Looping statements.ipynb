{
 "cells": [
  {
   "cell_type": "code",
   "execution_count": 4,
   "metadata": {},
   "outputs": [
    {
     "name": "stdout",
     "output_type": "stream",
     "text": [
      "enter int : 5\n",
      "***** 1  times ****\n",
      "name : anjan\n",
      "phone: 45424\n",
      "mail : shdfh\n",
      "***** 2  times ****\n",
      "name : anjan\n",
      "phone: 45424\n",
      "mail : shdfh\n",
      "***** 3  times ****\n",
      "name : anjan\n",
      "phone: 45424\n",
      "mail : shdfh\n",
      "***** 4  times ****\n",
      "name : anjan\n",
      "phone: 45424\n",
      "mail : shdfh\n",
      "***** 5  times ****\n",
      "name : anjan\n",
      "phone: 45424\n",
      "mail : shdfh\n",
      "condition was fails\n",
      "task over\n"
     ]
    }
   ],
   "source": [
    "# wap print your datails 10 times \n",
    "N = int(input(\"enter int : \"))\n",
    "i = 1\n",
    "while( i <= N):\n",
    "    print(\"*****\",i,\" times ****\")\n",
    "    print(\"name : anjan\")\n",
    "    print(\"phone: 45424\")\n",
    "    print(\"mail : shdfh\")\n",
    "    i = i+1\n",
    "else :\n",
    "    print(\"condition was fails\")\n",
    "print(\"task over\")"
   ]
  },
  {
   "cell_type": "code",
   "execution_count": 1,
   "metadata": {},
   "outputs": [
    {
     "name": "stdout",
     "output_type": "stream",
     "text": [
      "enter N : 5\n",
      "5  X  1  =  5\n",
      "5  X  2  =  10\n",
      "5  X  3  =  15\n",
      "5  X  4  =  20\n",
      "5  X  5  =  25\n",
      "5  X  6  =  30\n",
      "5  X  7  =  35\n",
      "5  X  8  =  40\n",
      "5  X  9  =  45\n",
      "5  X  10  =  50\n"
     ]
    }
   ],
   "source": [
    "# wap print the multiplication table\n",
    "'''\n",
    "5 * 1 = 5\n",
    "5 * 2 = 10\n",
    "5 *3 =15\n",
    "----\n",
    "5*10 =50\n",
    "\n",
    "'''\n",
    "N = int(input(\"enter N : \"))\n",
    "i = 1\n",
    "while(i <= 10):\n",
    "    print(N,\" X \",i, \" = \",N*i)\n",
    "    i = i+1"
   ]
  },
  {
   "cell_type": "code",
   "execution_count": null,
   "metadata": {},
   "outputs": [],
   "source": [
    "# wap find the sum of 1st N natural number \n",
    "#   1+2+3+4+5+6+ -------+ N\n"
   ]
  },
  {
   "cell_type": "code",
   "execution_count": null,
   "metadata": {},
   "outputs": [],
   "source": [
    "# wap find the factorial of any number\n",
    "# 5 ===>>  5*4*3*2*1 ===>>120"
   ]
  },
  {
   "cell_type": "code",
   "execution_count": null,
   "metadata": {},
   "outputs": [],
   "source": [
    "# wap find the no of factors for any number\n",
    "# 6 ==>> 1, 2,3,6 ====>>4"
   ]
  },
  {
   "cell_type": "code",
   "execution_count": 1,
   "metadata": {},
   "outputs": [
    {
     "name": "stdout",
     "output_type": "stream",
     "text": [
      "12\n",
      "56\n",
      "89\n",
      "12\n",
      "90\n",
      "No more updataation\n",
      "Task over\n"
     ]
    }
   ],
   "source": [
    "#wap find print elemenets in any seq \n",
    "seq_var = [12 , 56 , 89 ,12,90]\n",
    "for var in seq_var:\n",
    "    print(var)\n",
    "else:\n",
    "    print(\"No more updataation\")\n",
    "print(\"Task over\")\n",
    "    "
   ]
  },
  {
   "cell_type": "code",
   "execution_count": 3,
   "metadata": {},
   "outputs": [
    {
     "name": "stdout",
     "output_type": "stream",
     "text": [
      "enter N value : 100\n",
      "sum =  5050\n",
      "Task over\n"
     ]
    }
   ],
   "source": [
    "# wap find the sum of 1st N natural number \n",
    "#   1+2+3+4+5+6+ -------+ N\n",
    "N = int(input(\"enter N value : \"))\n",
    "sum = 0\n",
    "for var in range(1,N+1):\n",
    "    sum = sum+var\n",
    "else:\n",
    "    print(\"sum = \",sum)\n",
    "print(\"Task over\")"
   ]
  },
  {
   "cell_type": "code",
   "execution_count": null,
   "metadata": {},
   "outputs": [],
   "source": [
    "# wap find the factorial of any number\n",
    "# 5 ===>>  5*4*3*2*1 ===>>120"
   ]
  },
  {
   "cell_type": "code",
   "execution_count": 4,
   "metadata": {},
   "outputs": [
    {
     "name": "stdout",
     "output_type": "stream",
     "text": [
      "enter N : 6\n",
      "1\n",
      "2\n",
      "3\n",
      "6\n",
      " no of factors :  4\n"
     ]
    }
   ],
   "source": [
    "# wap find the no of factors for any number\n",
    "# 6 ==>> 1, 2,3,6 ====>>4\n",
    "N = int(input(\"enter N : \"))\n",
    "f_c = 0\n",
    "for var in range(1, N+1):\n",
    "    if(N % var == 0):\n",
    "        print (var)\n",
    "        f_c += 1\n",
    "else:\n",
    "    print(\" no of factors : \",f_c)\n",
    "    "
   ]
  },
  {
   "cell_type": "code",
   "execution_count": null,
   "metadata": {},
   "outputs": [],
   "source": [
    "# wap find the no of digits in a number using while and for \n",
    "# 4582 ===>> 4"
   ]
  },
  {
   "cell_type": "code",
   "execution_count": null,
   "metadata": {},
   "outputs": [],
   "source": [
    "# wap find the sum of the digits in a number while and for\n",
    "# 2365 ==>>  2+3+6+5 ==>>"
   ]
  }
 ],
 "metadata": {
  "kernelspec": {
   "display_name": "Python 3",
   "language": "python",
   "name": "python3"
  },
  "language_info": {
   "codemirror_mode": {
    "name": "ipython",
    "version": 3
   },
   "file_extension": ".py",
   "mimetype": "text/x-python",
   "name": "python",
   "nbconvert_exporter": "python",
   "pygments_lexer": "ipython3",
   "version": "3.7.3"
  }
 },
 "nbformat": 4,
 "nbformat_minor": 2
}
