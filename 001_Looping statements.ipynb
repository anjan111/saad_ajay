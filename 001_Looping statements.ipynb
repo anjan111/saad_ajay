{
 "cells": [
  {
   "cell_type": "code",
   "execution_count": null,
   "metadata": {},
   "outputs": [],
   "source": [
    "# wap print your datails 10 times \n",
    "N = int(input(\"enter int : \"))\n",
    "i = 1\n",
    "while( i <= N):\n",
    "    print(\"*****\",i,\" times ****\")\n",
    "    print(\"name : anjan\")\n",
    "    print(\"phone: 45424\")\n",
    "    print(\"mail : shdfh\")\n",
    "    i = i+1\n",
    "else :\n",
    "    print(\"condition was fails\")\n",
    "print(\"task over\")"
   ]
  },
  {
   "cell_type": "code",
   "execution_count": null,
   "metadata": {},
   "outputs": [],
   "source": [
    "# wap print the multiplication table\n",
    "'''\n",
    "5 * 1 = 5\n",
    "5 * 2 = 10\n",
    "5 *3 =15\n",
    "----\n",
    "5*10 =50\n",
    "\n",
    "'''\n",
    "N = int(input(\"enter N : \"))\n",
    "i = 1\n",
    "while(i <= 10):\n",
    "    print(N,\" X \",i, \" = \",N*i)\n",
    "    i = i+1"
   ]
  },
  {
   "cell_type": "code",
   "execution_count": null,
   "metadata": {},
   "outputs": [],
   "source": [
    "# wap find the sum of 1st N natural number \n",
    "#   1+2+3+4+5+6+ -------+ N\n"
   ]
  },
  {
   "cell_type": "code",
   "execution_count": null,
   "metadata": {},
   "outputs": [],
   "source": [
    "# wap find the factorial of any number\n",
    "# 5 ===>>  5*4*3*2*1 ===>>120"
   ]
  },
  {
   "cell_type": "code",
   "execution_count": null,
   "metadata": {},
   "outputs": [],
   "source": [
    "# wap find the no of factors for any number\n",
    "# 6 ==>> 1, 2,3,6 ====>>4"
   ]
  },
  {
   "cell_type": "code",
   "execution_count": null,
   "metadata": {},
   "outputs": [],
   "source": [
    "#wap find print elemenets in any seq \n",
    "seq_var = [12 , 56 , 89 ,12,90]\n",
    "for var in seq_var:\n",
    "    print(var)\n",
    "else:\n",
    "    print(\"No more updataation\")\n",
    "print(\"Task over\")\n",
    "    "
   ]
  },
  {
   "cell_type": "code",
   "execution_count": null,
   "metadata": {},
   "outputs": [],
   "source": [
    "# wap find the sum of 1st N natural number \n",
    "#   1+2+3+4+5+6+ -------+ N\n",
    "N = int(input(\"enter N value : \"))\n",
    "sum = 0\n",
    "for var in range(1,N+1):\n",
    "    sum = sum+var\n",
    "else:\n",
    "    print(\"sum = \",sum)\n",
    "print(\"Task over\")"
   ]
  },
  {
   "cell_type": "code",
   "execution_count": null,
   "metadata": {},
   "outputs": [],
   "source": [
    "# wap find the factorial of any number\n",
    "# 5 ===>>  5*4*3*2*1 ===>>120"
   ]
  },
  {
   "cell_type": "code",
   "execution_count": null,
   "metadata": {},
   "outputs": [],
   "source": [
    "# wap find the no of factors for any number\n",
    "# 6 ==>> 1, 2,3,6 ====>>4\n",
    "N = int(input(\"enter N : \"))\n",
    "f_c = 0\n",
    "for var in range(1, N+1):\n",
    "    if(N % var == 0):\n",
    "        print (var)\n",
    "        f_c += 1\n",
    "else:\n",
    "    print(\" no of factors : \",f_c)\n",
    "    "
   ]
  },
  {
   "cell_type": "code",
   "execution_count": null,
   "metadata": {},
   "outputs": [],
   "source": [
    "# wap find the no of digits in a number using while and for \n",
    "# 4582 ===>> 4"
   ]
  },
  {
   "cell_type": "code",
   "execution_count": null,
   "metadata": {},
   "outputs": [],
   "source": [
    "# wap find the sum of the digits in a number while and for\n",
    "# 2365 ==>>  2+3+6+5 ==>>16"
   ]
  },
  {
   "cell_type": "code",
   "execution_count": null,
   "metadata": {},
   "outputs": [],
   "source": [
    "# control keywords \n",
    "#---------------------\n",
    "'''\n",
    "=====>>> continue  :-\n",
    "======================\n",
    "===>>> It can be used for to skip the present interation and then continue the next iteration\n",
    "'''\n",
    "#print 1 to 10 except   5 and 7\n",
    "\n",
    "for i in range(1,11):\n",
    "    if( i == 5 or i == 7):\n",
    "        continue\n",
    "    print(i)"
   ]
  },
  {
   "cell_type": "code",
   "execution_count": null,
   "metadata": {},
   "outputs": [],
   "source": [
    "# break \n",
    "'''\n",
    "===>> break is used for to terminate whole loop\n",
    "'''\n",
    "# wap print 1 to 10 but when i is 5 stop the loop\n",
    "for i in range(1,11):\n",
    "    if(i == 5):\n",
    "        break\n",
    "    print(i)\n",
    "else:\n",
    "    print(\"when we dont have the no more updatation\")"
   ]
  },
  {
   "cell_type": "code",
   "execution_count": null,
   "metadata": {},
   "outputs": [],
   "source": [
    "# pass keyword\n",
    "'''\n",
    "===>>> passkeyword is used for to create the empty block \n",
    "\n",
    "'''\n",
    "if( True):\n",
    "    pass"
   ]
  },
  {
   "cell_type": "code",
   "execution_count": null,
   "metadata": {},
   "outputs": [],
   "source": [
    "## nested loops\n",
    "'''\n",
    "\n",
    "A loop statement can contains one more loop\n",
    "\n",
    "while :\n",
    "    while\n",
    "    for\n",
    "\n",
    "for :\n",
    "    while\n",
    "    for\n",
    "'''\n",
    "# wap find the prime numbers in between 10 to 100\n",
    "\n",
    "11,13,17,19,23,29,31,37,41\n",
    "for num  in range(10,101):\n",
    "    for var in range(2,num):\n",
    "        if(num % var == 0):\n",
    "            break\n",
    "    else:\n",
    "        print(num)"
   ]
  },
  {
   "cell_type": "code",
   "execution_count": null,
   "metadata": {},
   "outputs": [],
   "source": [
    "# wap find the prim fibonic elements and sum it from 10 fibonic elements\n",
    "# 0 ,1,1,2,3,5,8,13 ====>>> 2,3,13 ====>>18\n",
    "N = int(input(\"enter no fibo elements :\"))\n",
    "a = 0\n",
    "b = 1\n",
    "sum = 0\n",
    "for num in range(N):\n",
    "    if(a >= 2):\n",
    "        for var in range(2,a):\n",
    "            if(a %var == 0):\n",
    "                break\n",
    "        else:\n",
    "            print(a)\n",
    "            sum =sum+a\n",
    "    c = a+b\n",
    "    a = b\n",
    "    b =c\n",
    "print(\"sum : \",sum)"
   ]
  },
  {
   "cell_type": "code",
   "execution_count": null,
   "metadata": {},
   "outputs": [],
   "source": [
    "#    https://projecteuler.net/archives"
   ]
  },
  {
   "cell_type": "code",
   "execution_count": null,
   "metadata": {},
   "outputs": [],
   "source": [
    "\n",
    "'''\n",
    "Each new term in the Fibonacci sequence is generated by \n",
    "adding the previous two terms. By starting with 1 and 2, \n",
    "the first 10 terms will be:\n",
    "\n",
    "1, 2, 3, 5, 8, 13, 21, 34, 55, 89, ...\n",
    "\n",
    "By considering the terms in the Fibonacci sequence \n",
    "whose values do not exceed four million, \n",
    "find the sum of the even-valued terms.\n",
    "'''\n",
    "N = int(input(\"enter no fibo elements :\"))\n",
    "a = 1\n",
    "b = 2\n",
    "sum = 0\n",
    "for num in range(N):\n",
    "    if(a % 2 == 0):\n",
    "        sum =sum+a\n",
    "        \n",
    "    print(a, end =\"  \")\n",
    "    c = a+b\n",
    "    a = b\n",
    "    b =c\n",
    "print(\"\\nsum : \",sum)"
   ]
  },
  {
   "cell_type": "code",
   "execution_count": 2,
   "metadata": {},
   "outputs": [
    {
     "name": "stdout",
     "output_type": "stream",
     "text": [
      "enter no prime numbers : 10\n",
      "2 3 5 7 11 13 17 19 23 29 "
     ]
    }
   ],
   "source": [
    "# wap generate the 1st N no of prime numbers\n",
    "N = int(input(\"enter no prime numbers : \"))\n",
    "num = 2\n",
    "while(True):\n",
    "    if(N <= 0):\n",
    "        break\n",
    "    for i in range(2,num):\n",
    "        if(num % i == 0):\n",
    "            break\n",
    "            \n",
    "    else:\n",
    "        print(num,end = \" \")\n",
    "        N= N-1\n",
    "    num = num +1\n",
    "    \n"
   ]
  },
  {
   "cell_type": "code",
   "execution_count": null,
   "metadata": {},
   "outputs": [],
   "source": []
  }
 ],
 "metadata": {
  "kernelspec": {
   "display_name": "Python 3",
   "language": "python",
   "name": "python3"
  },
  "language_info": {
   "codemirror_mode": {
    "name": "ipython",
    "version": 3
   },
   "file_extension": ".py",
   "mimetype": "text/x-python",
   "name": "python",
   "nbconvert_exporter": "python",
   "pygments_lexer": "ipython3",
   "version": "3.7.3"
  }
 },
 "nbformat": 4,
 "nbformat_minor": 2
}
