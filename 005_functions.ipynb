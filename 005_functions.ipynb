{
 "cells": [
  {
   "cell_type": "markdown",
   "metadata": {},
   "source": [
    "# function  :-\n",
    "\n",
    "===>> collections of statements to do any one specific task\n",
    "\n",
    "===>> function is a sub program of a program\n",
    "\n",
    "===>> functions are used for to reduce the cose size\n",
    "\n",
    "===>> functions  reuseability of the code\n",
    "\n",
    "# Types\n",
    "\n",
    "1. Pre defined function\n",
    "\n",
    "    ===>> defined in side of the python\n",
    "    \n",
    "    ===>> int() , float(),type(),input()\n",
    "    \n",
    "2. user defiend function\n",
    "\n",
    "    ===>> programmer can defined functions\n",
    "    \n",
    "    ===>>  def is a keyword  , it will used for to create the fucntions\n",
    "    \n",
    "    ===>>  return is keyword , it will used for to return the result from function definetion to function call\n",
    "    \n",
    "\n",
    "# syntax \n",
    "\n",
    "1. functions definetion ====>>> collection of statements\n",
    "\n",
    "2. function  call   ========>>> to execute the function defination\n",
    "\n",
    "\n",
    "------>> function defination<------------\n",
    "\n",
    "def   fun_name(ar1,ar2,ar3,----  ):\n",
    "\n",
    "        Task\n",
    "        \n",
    "        ----\n",
    "        \n",
    "        ----\n",
    "        \n",
    "        return data\n",
    "       \n",
    "------>>>> function call <<------------------\n",
    "\n",
    "var =  fun_name(ar1,ar2,ar3,----  )"
   ]
  },
  {
   "cell_type": "code",
   "execution_count": 4,
   "metadata": {},
   "outputs": [
    {
     "name": "stdout",
     "output_type": "stream",
     "text": [
      "anjan kumar\n",
      "AI Engineer\n",
      "Technnical trainer\n",
      "anjan kumar\n",
      "AI Engineer\n",
      "Technnical trainer\n"
     ]
    }
   ],
   "source": [
    "# waf print your details \n",
    "def print_det():\n",
    "    print(\"anjan kumar\")\n",
    "    print(\"AI Engineer\")\n",
    "    print(\"Technnical trainer\")\n",
    "\n",
    "def main():\n",
    "    print_det()\n",
    "    print_det()\n",
    "main()"
   ]
  },
  {
   "cell_type": "code",
   "execution_count": 6,
   "metadata": {},
   "outputs": [
    {
     "name": "stdout",
     "output_type": "stream",
     "text": [
      "enter a number for factorial : 5\n",
      "factorial of 5 is 120 \n",
      "enter a number for factorial : 6\n",
      "factorial of 6 is 720 \n"
     ]
    }
   ],
   "source": [
    "# waf for implimeting the factorial of a number\n",
    "def factorial(num):\n",
    "    if(num < 0):\n",
    "        return None\n",
    "    fact = 1\n",
    "    for var in range(2, num+1):\n",
    "        fact = fact * var\n",
    "    else:\n",
    "        return fact\n",
    "\n",
    "def main():\n",
    "    N = int(input(\"enter a number for factorial : \"))\n",
    "    f =  factorial(N)\n",
    "    print(\"factorial of %d is %d \"%(N,f))\n",
    "    \n",
    "\n",
    "main()\n",
    "main()"
   ]
  },
  {
   "cell_type": "code",
   "execution_count": null,
   "metadata": {},
   "outputs": [],
   "source": [
    "# waf find the prime number or not"
   ]
  },
  {
   "cell_type": "code",
   "execution_count": null,
   "metadata": {},
   "outputs": [],
   "source": [
    "# waf for generating the fibonic series "
   ]
  },
  {
   "cell_type": "code",
   "execution_count": null,
   "metadata": {},
   "outputs": [],
   "source": [
    "# waf for palidrom or not "
   ]
  },
  {
   "cell_type": "code",
   "execution_count": null,
   "metadata": {},
   "outputs": [],
   "source": [
    "#"
   ]
  }
 ],
 "metadata": {
  "kernelspec": {
   "display_name": "Python 3",
   "language": "python",
   "name": "python3"
  },
  "language_info": {
   "codemirror_mode": {
    "name": "ipython",
    "version": 3
   },
   "file_extension": ".py",
   "mimetype": "text/x-python",
   "name": "python",
   "nbconvert_exporter": "python",
   "pygments_lexer": "ipython3",
   "version": "3.7.3"
  }
 },
 "nbformat": 4,
 "nbformat_minor": 2
}
