{
 "cells": [
  {
   "cell_type": "code",
   "execution_count": 2,
   "metadata": {},
   "outputs": [
    {
     "name": "stdout",
     "output_type": "stream",
     "text": [
      "file is opened / created successfully\n"
     ]
    },
    {
     "ename": "IOError",
     "evalue": "File not open for reading",
     "output_type": "error",
     "traceback": [
      "\u001b[1;31m---------------------------------------------------------------------------\u001b[0m",
      "\u001b[1;31mIOError\u001b[0m                                   Traceback (most recent call last)",
      "\u001b[1;32m<ipython-input-2-8f1b495326e1>\u001b[0m in \u001b[0;36m<module>\u001b[1;34m()\u001b[0m\n\u001b[0;32m      2\u001b[0m \u001b[0mfile_obj\u001b[0m \u001b[1;33m=\u001b[0m \u001b[0mopen\u001b[0m\u001b[1;33m(\u001b[0m\u001b[1;34m\"sample.txt\"\u001b[0m\u001b[1;33m,\u001b[0m\u001b[1;34m\"w\"\u001b[0m\u001b[1;33m)\u001b[0m\u001b[1;33m\u001b[0m\u001b[0m\n\u001b[0;32m      3\u001b[0m \u001b[1;32mprint\u001b[0m\u001b[1;34m\"file is opened / created successfully\"\u001b[0m\u001b[1;33m\u001b[0m\u001b[0m\n\u001b[1;32m----> 4\u001b[1;33m \u001b[0mfile_obj\u001b[0m\u001b[1;33m.\u001b[0m\u001b[0mread\u001b[0m\u001b[1;33m(\u001b[0m\u001b[1;33m)\u001b[0m\u001b[1;33m\u001b[0m\u001b[0m\n\u001b[0m\u001b[0;32m      5\u001b[0m \u001b[0mdata\u001b[0m \u001b[1;33m=\u001b[0m \u001b[0minput\u001b[0m\u001b[1;33m(\u001b[0m\u001b[1;34m\"enter some data to write : \"\u001b[0m\u001b[1;33m)\u001b[0m\u001b[1;33m\u001b[0m\u001b[0m\n\u001b[0;32m      6\u001b[0m \u001b[0mfile_obj\u001b[0m\u001b[1;33m.\u001b[0m\u001b[0mwrite\u001b[0m\u001b[1;33m(\u001b[0m\u001b[0mdata\u001b[0m\u001b[1;33m)\u001b[0m\u001b[1;33m\u001b[0m\u001b[0m\n",
      "\u001b[1;31mIOError\u001b[0m: File not open for reading"
     ]
    }
   ],
   "source": [
    "# write mode ===> \"w\"\n",
    "file_obj = open(\"sample.txt\",\"w\")\n",
    "print\"file is opened / created successfully\"\n",
    "file_obj.read()\n",
    "data = input(\"enter some data to write : \")\n",
    "file_obj.write(data)\n",
    "file_obj.close()"
   ]
  },
  {
   "cell_type": "code",
   "execution_count": 6,
   "metadata": {},
   "outputs": [
    {
     "name": "stdout",
     "output_type": "stream",
     "text": [
      "file is opened / created successfully\n",
      "file cursor loc :  0\n",
      " data in sample.txt : \n",
      "enter some data to write : \"hello\"\n",
      "file cursor loc :  5\n",
      " data in sample.txt after write  : hello\n"
     ]
    }
   ],
   "source": [
    "# write mode ===> \"w+\"\n",
    "file_obj = open(\"sample.txt\",\"w+\")\n",
    "print\"file is opened / created successfully\"\n",
    "print \"file cursor loc : \",file_obj.tell()\n",
    "print \" data in sample.txt :\",file_obj.read()\n",
    "data = input(\"enter some data to write : \")\n",
    "file_obj.write(data)\n",
    "print \"file cursor loc : \",file_obj.tell()\n",
    "file_obj.seek(0,0) # setting as biiging of the file\n",
    "print \" data in sample.txt after write  :\",file_obj.read()\n",
    "file_obj.close()"
   ]
  },
  {
   "cell_type": "code",
   "execution_count": 7,
   "metadata": {},
   "outputs": [
    {
     "name": "stdout",
     "output_type": "stream",
     "text": [
      "file is opened / created successfully\n",
      "file cursor loc :  0\n",
      " data in sample.txt :"
     ]
    },
    {
     "ename": "IOError",
     "evalue": "File not open for reading",
     "output_type": "error",
     "traceback": [
      "\u001b[1;31m---------------------------------------------------------------------------\u001b[0m",
      "\u001b[1;31mIOError\u001b[0m                                   Traceback (most recent call last)",
      "\u001b[1;32m<ipython-input-7-7c24cea3e512>\u001b[0m in \u001b[0;36m<module>\u001b[1;34m()\u001b[0m\n\u001b[0;32m      3\u001b[0m \u001b[1;32mprint\u001b[0m\u001b[1;34m\"file is opened / created successfully\"\u001b[0m\u001b[1;33m\u001b[0m\u001b[0m\n\u001b[0;32m      4\u001b[0m \u001b[1;32mprint\u001b[0m \u001b[1;34m\"file cursor loc : \"\u001b[0m\u001b[1;33m,\u001b[0m\u001b[0mfile_obj\u001b[0m\u001b[1;33m.\u001b[0m\u001b[0mtell\u001b[0m\u001b[1;33m(\u001b[0m\u001b[1;33m)\u001b[0m\u001b[1;33m\u001b[0m\u001b[0m\n\u001b[1;32m----> 5\u001b[1;33m \u001b[1;32mprint\u001b[0m \u001b[1;34m\" data in sample.txt :\"\u001b[0m\u001b[1;33m,\u001b[0m\u001b[0mfile_obj\u001b[0m\u001b[1;33m.\u001b[0m\u001b[0mread\u001b[0m\u001b[1;33m(\u001b[0m\u001b[1;33m)\u001b[0m\u001b[1;33m\u001b[0m\u001b[0m\n\u001b[0m\u001b[0;32m      6\u001b[0m \u001b[0mdata\u001b[0m \u001b[1;33m=\u001b[0m \u001b[0minput\u001b[0m\u001b[1;33m(\u001b[0m\u001b[1;34m\"enter some data to write : \"\u001b[0m\u001b[1;33m)\u001b[0m\u001b[1;33m\u001b[0m\u001b[0m\n\u001b[0;32m      7\u001b[0m \u001b[0mfile_obj\u001b[0m\u001b[1;33m.\u001b[0m\u001b[0mwrite\u001b[0m\u001b[1;33m(\u001b[0m\u001b[0mdata\u001b[0m\u001b[1;33m)\u001b[0m\u001b[1;33m\u001b[0m\u001b[0m\n",
      "\u001b[1;31mIOError\u001b[0m: File not open for reading"
     ]
    }
   ],
   "source": [
    "# append mode ===> \"a\"\n",
    "file_obj = open(\"sample1.txt\",\"a\")\n",
    "print\"file is opened / created successfully\"\n",
    "print \"file cursor loc : \",file_obj.tell()\n",
    "print \" data in sample.txt :\",file_obj.read()\n",
    "data = input(\"enter some data to write : \")\n",
    "file_obj.write(data)\n",
    "print \"file cursor loc : \",file_obj.tell()\n",
    "file_obj.seek(0,0) # setting as biiging of the file\n",
    "print \" data in sample.txt after write  :\",file_obj.read()\n",
    "file_obj.close()"
   ]
  },
  {
   "cell_type": "code",
   "execution_count": 11,
   "metadata": {},
   "outputs": [
    {
     "name": "stdout",
     "output_type": "stream",
     "text": [
      "file is opened / created successfully\n",
      "file cursor loc :  0\n",
      "enter some data to write : \"456123\"\n",
      "file cursor loc :  36\n"
     ]
    }
   ],
   "source": [
    "# append mode ===> \"a\"\n",
    "file_obj = open(\"sample1.txt\",\"a\")\n",
    "print\"file is opened / created successfully\"\n",
    "print \"file cursor loc : \",file_obj.tell()\n",
    "#print \" data in sample.txt :\",file_obj.read()\n",
    "data = input(\"enter some data to write : \")\n",
    "file_obj.write(data)\n",
    "print \"file cursor loc : \",file_obj.tell()\n",
    "#file_obj.seek(0,0) # setting as biiging of the file\n",
    "#print \" data in sample.txt after write  :\",file_obj.read()\n",
    "file_obj.close()"
   ]
  },
  {
   "cell_type": "code",
   "execution_count": 12,
   "metadata": {},
   "outputs": [
    {
     "name": "stdout",
     "output_type": "stream",
     "text": [
      "file is opened / created successfully\n",
      "file cursor loc :  0\n",
      " data in sample.txt : i am 1st time appending 101010456123\n",
      "file cursor loc :  36\n",
      "enter some data to write : \"anjan\"\n",
      "file cursor loc :  41\n",
      " data in sample.txt after write  : i am 1st time appending 101010456123anjan\n"
     ]
    }
   ],
   "source": [
    "# append mode ===> \"a+\"\n",
    "file_obj = open(\"sample1.txt\",\"a+\")\n",
    "print\"file is opened / created successfully\"\n",
    "print \"file cursor loc : \",file_obj.tell()\n",
    "print \" data in sample.txt :\",file_obj.read()\n",
    "print \"file cursor loc : \",file_obj.tell()\n",
    "file_obj.seek(0,0) # setting as biiging of the file\n",
    "data = input(\"enter some data to write : \")\n",
    "file_obj.write(data)\n",
    "print \"file cursor loc : \",file_obj.tell()\n",
    "file_obj.seek(0,0) # setting as biiging of the file\n",
    "print \" data in sample.txt after write  :\",file_obj.read()\n",
    "file_obj.close()"
   ]
  },
  {
   "cell_type": "code",
   "execution_count": 14,
   "metadata": {},
   "outputs": [
    {
     "ename": "IOError",
     "evalue": "[Errno 2] No such file or directory: 'sample3.txt'",
     "output_type": "error",
     "traceback": [
      "\u001b[1;31m---------------------------------------------------------------------------\u001b[0m",
      "\u001b[1;31mIOError\u001b[0m                                   Traceback (most recent call last)",
      "\u001b[1;32m<ipython-input-14-afff1af8ccaa>\u001b[0m in \u001b[0;36m<module>\u001b[1;34m()\u001b[0m\n\u001b[0;32m      1\u001b[0m \u001b[1;31m# read mode ===> \"r\"\u001b[0m\u001b[1;33m\u001b[0m\u001b[1;33m\u001b[0m\u001b[0m\n\u001b[1;32m----> 2\u001b[1;33m \u001b[0mfile_obj\u001b[0m \u001b[1;33m=\u001b[0m \u001b[0mopen\u001b[0m\u001b[1;33m(\u001b[0m\u001b[1;34m\"sample3.txt\"\u001b[0m\u001b[1;33m,\u001b[0m\u001b[1;34m\"r\"\u001b[0m\u001b[1;33m)\u001b[0m\u001b[1;33m\u001b[0m\u001b[0m\n\u001b[0m\u001b[0;32m      3\u001b[0m \u001b[1;32mprint\u001b[0m\u001b[1;34m\"file is opened / created successfully\"\u001b[0m\u001b[1;33m\u001b[0m\u001b[0m\n\u001b[0;32m      4\u001b[0m \u001b[1;32mprint\u001b[0m \u001b[1;34m\"file cursor loc : \"\u001b[0m\u001b[1;33m,\u001b[0m\u001b[0mfile_obj\u001b[0m\u001b[1;33m.\u001b[0m\u001b[0mtell\u001b[0m\u001b[1;33m(\u001b[0m\u001b[1;33m)\u001b[0m\u001b[1;33m\u001b[0m\u001b[0m\n\u001b[0;32m      5\u001b[0m \u001b[1;32mprint\u001b[0m \u001b[1;34m\" data in sample.txt :\"\u001b[0m\u001b[1;33m,\u001b[0m\u001b[0mfile_obj\u001b[0m\u001b[1;33m.\u001b[0m\u001b[0mread\u001b[0m\u001b[1;33m(\u001b[0m\u001b[1;33m)\u001b[0m\u001b[1;33m\u001b[0m\u001b[0m\n",
      "\u001b[1;31mIOError\u001b[0m: [Errno 2] No such file or directory: 'sample3.txt'"
     ]
    }
   ],
   "source": [
    "# read mode ===> \"r\"\n",
    "file_obj = open(\"sample3.txt\",\"r\")\n",
    "print\"file is opened / created successfully\"\n",
    "print \"file cursor loc : \",file_obj.tell()\n",
    "print \" data in sample.txt :\",file_obj.read()\n",
    "print \"file cursor loc : \",file_obj.tell()\n",
    "file_obj.seek(0,0) # setting as biiging of the file\n",
    "data = input(\"enter some data to write : \")\n",
    "file_obj.write(data)\n",
    "print \"file cursor loc : \",file_obj.tell()\n",
    "file_obj.seek(0,0) # setting as biiging of the file\n",
    "print \" data in sample.txt after write  :\",file_obj.read()\n",
    "file_obj.close()"
   ]
  },
  {
   "cell_type": "code",
   "execution_count": 16,
   "metadata": {},
   "outputs": [
    {
     "name": "stdout",
     "output_type": "stream",
     "text": [
      "file is opened \n",
      "file cursor loc :  0\n",
      " data in sample.txt : i am 1st time appending 101010456123anjan\n",
      "kjsdsdkfhjkf\n",
      "dksdusuhfkjshbh\n",
      "jsddsifhkfjk\n",
      "kujbsbddkjvjbss\n",
      "file cursor loc :  99\n",
      " data in sample.txt : i am 1st time appending 101010456123anjan\n",
      "\n",
      " data in sample.txt : ['i am 1st time appending 101010456123anjan\\n', 'kjsdsdkfhjkf\\n', 'dksdusuhfkjshbh\\n', 'jsddsifhkfjk\\n', 'kujbsbddkjvjbss']\n"
     ]
    }
   ],
   "source": [
    "# read mode ===> \"r\"\n",
    "file_obj = open(\"sample1.txt\",\"r\")\n",
    "print\"file is opened \"\n",
    "print \"file cursor loc : \",file_obj.tell()\n",
    "print \" data in sample.txt :\",file_obj.read()\n",
    "print \"file cursor loc : \",file_obj.tell()\n",
    "file_obj.seek(0,0)\n",
    "print \" data in sample.txt :\",file_obj.readline()\n",
    "file_obj.seek(0,0)\n",
    "print \" data in sample.txt :\",file_obj.readlines()\n",
    "file_obj.close()"
   ]
  }
 ],
 "metadata": {
  "kernelspec": {
   "display_name": "Python 2",
   "language": "python",
   "name": "python2"
  },
  "language_info": {
   "codemirror_mode": {
    "name": "ipython",
    "version": 2
   },
   "file_extension": ".py",
   "mimetype": "text/x-python",
   "name": "python",
   "nbconvert_exporter": "python",
   "pygments_lexer": "ipython2",
   "version": "2.7.16"
  }
 },
 "nbformat": 4,
 "nbformat_minor": 2
}
